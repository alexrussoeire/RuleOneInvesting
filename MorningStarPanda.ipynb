{
 "cells": [
  {
   "cell_type": "code",
   "execution_count": null,
   "metadata": {},
   "outputs": [],
   "source": [
    "import morning_star_parser as msp\n",
    "\n",
    "parser = msp.morningStarParser()\n",
    "\n",
    "#Perform rule one financial analysis on the list of stocks below.\n",
    "parser.doFinanceAnalysis('C:\\\\Users\\\\Alex\\\\Downloads\\\\Financial\\\\RuleOneInvesting\\\\America\\\\XNYS_NASDAQ.csv')\n"
   ]
  }
 ],
 "metadata": {
  "kernelspec": {
   "display_name": "Python 3",
   "language": "python",
   "name": "python3"
  },
  "language_info": {
   "codemirror_mode": {
    "name": "ipython",
    "version": 3
   },
   "file_extension": ".py",
   "mimetype": "text/x-python",
   "name": "python",
   "nbconvert_exporter": "python",
   "pygments_lexer": "ipython3",
   "version": "3.7.0"
  }
 },
 "nbformat": 4,
 "nbformat_minor": 2
}
